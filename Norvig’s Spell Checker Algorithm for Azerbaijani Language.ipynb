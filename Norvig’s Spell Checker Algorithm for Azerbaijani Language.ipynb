{
 "cells": [
  {
   "cell_type": "code",
   "execution_count": 139,
   "id": "a737cf0c",
   "metadata": {},
   "outputs": [
    {
     "name": "stdout",
     "output_type": "stream",
     "text": [
      "Populating the interactive namespace from numpy and matplotlib\n"
     ]
    },
    {
     "name": "stderr",
     "output_type": "stream",
     "text": [
      "C:\\Users\\004567\\Anaconda3\\envs\\root3\\lib\\site-packages\\IPython\\core\\magics\\pylab.py:160: UserWarning: pylab import has clobbered these variables: ['sample']\n",
      "`%matplotlib` prevents importing * from pylab and numpy\n",
      "  \"\\n`%matplotlib` prevents importing * from pylab and numpy\"\n"
     ]
    }
   ],
   "source": [
    "#import libraries\n",
    "\n",
    "from __future__ import division\n",
    "%pylab inline\n",
    "import re\n",
    "import math\n",
    "import string\n",
    "from collections import Counter\n",
    "import nltk\n"
   ]
  },
  {
   "cell_type": "markdown",
   "id": "5197709e",
   "metadata": {},
   "source": [
    "# 1.Import corpus\n"
   ]
  },
  {
   "cell_type": "code",
   "execution_count": 122,
   "id": "fdf90ec6",
   "metadata": {},
   "outputs": [
    {
     "data": {
      "text/plain": [
       "11098116"
      ]
     },
     "execution_count": 122,
     "metadata": {},
     "output_type": "execute_result"
    }
   ],
   "source": [
    "TEXT = open('allbook.txt',encoding='utf-8').read()\n",
    "len(TEXT)"
   ]
  },
  {
   "cell_type": "code",
   "execution_count": 123,
   "metadata": {},
   "outputs": [
    {
     "data": {
      "text/plain": [
       "'n orta\\nümumitəhsil məktəblərinin biologiya müəllimləri də faydalana bilər.\\nKitabın bütövlükdə və hisələrinin üzünün çıxarılması\\nqadağandır.\\n3\\nÖN SÖZ\\nAzərbaycan dilində embriologiya haqqında məlumatlar\\n1976-cı ildə Abdullayev M.S., Abiyev H.S. “Ümumi\\n'"
      ]
     },
     "execution_count": 123,
     "metadata": {},
     "output_type": "execute_result"
    }
   ],
   "source": [
    "TEXT[1000:1250]"
   ]
  },
  {
   "cell_type": "code",
   "execution_count": 124,
   "id": "5df1436e",
   "metadata": {},
   "outputs": [],
   "source": [
    "def tokens(text):\n",
    "    #add Azerbaijani alphabet\n",
    "    return re.findall('[ABCÇDEƏFGĞHXIİJKQLMNOÖPRSŞTUÜVYZabcçdeəfgğhxıijkqlmnoöprsştuüvyz]+', text.lower()) "
   ]
  },
  {
   "cell_type": "code",
   "execution_count": 125,
   "id": "b6b2dfe7",
   "metadata": {},
   "outputs": [
    {
     "data": {
      "text/plain": [
       "1478667"
      ]
     },
     "execution_count": 125,
     "metadata": {},
     "output_type": "execute_result"
    }
   ],
   "source": [
    "#tokenize corpus\n",
    "WORDS = tokens(TEXT)\n",
    "len(WORDS)"
   ]
  },
  {
   "cell_type": "code",
   "execution_count": 126,
   "metadata": {},
   "outputs": [
    {
     "data": {
      "text/plain": [
       "['və',\n",
       " 'genetika',\n",
       " 'kafedrasının',\n",
       " 'baş',\n",
       " 'müəllimi',\n",
       " 'əsgərov',\n",
       " 'lənkaran',\n",
       " 'dövlət',\n",
       " 'universiteti',\n",
       " 'dosent',\n",
       " 'şahbazov',\n",
       " 'lənkaran',\n",
       " 'dövlət',\n",
       " 'universiteti',\n",
       " 'dosent',\n",
       " 'əvəzi',\n",
       " 'ağayeva',\n",
       " 'elmi',\n",
       " 'redaktor',\n",
       " 'biol',\n",
       " 'şəmmədov',\n",
       " 'hüseynov',\n",
       " 'quliyev',\n",
       " 'embriologiya',\n",
       " 'dərs',\n",
       " 'vəsaiti',\n",
       " 'bakı',\n",
       " 'səh',\n",
       " 'birinci',\n",
       " 'nəşr',\n",
       " 'dərs',\n",
       " 'vəsaitindən',\n",
       " 'universitetlərin',\n",
       " 'biologiya',\n",
       " 'fakültəsində',\n",
       " 'bakalavr',\n",
       " 'dərəcəsi',\n",
       " 'üzrə',\n",
       " 'təhsil',\n",
       " 'alan',\n",
       " 'tələbələr',\n",
       " 'tibb',\n",
       " 'universiteti',\n",
       " 'tibb',\n",
       " 'kolleci',\n",
       " 'tələbələri',\n",
       " 'embriologiya',\n",
       " 'sahəsində',\n",
       " 'tədqiqat',\n",
       " 'aparan']"
      ]
     },
     "execution_count": 126,
     "metadata": {},
     "output_type": "execute_result"
    }
   ],
   "source": [
    "WORDS = [i for i in WORDS if len(i)>1]\n",
    "\n",
    "WORDS[50:100]"
   ]
  },
  {
   "cell_type": "markdown",
   "id": "ab253af2",
   "metadata": {},
   "source": [
    "# 2. Models: Bag of Words\n"
   ]
  },
  {
   "cell_type": "code",
   "execution_count": 127,
   "id": "e5238522",
   "metadata": {},
   "outputs": [],
   "source": [
    "def sample(bag, n=10):\n",
    "    return ' '.join(random.choice(bag) for _ in range(n))"
   ]
  },
  {
   "cell_type": "code",
   "execution_count": 129,
   "id": "04cb0365",
   "metadata": {},
   "outputs": [
    {
     "data": {
      "text/plain": [
       "'insanla vacib keçid belə göstərilməsi şərqi amili görünüşün və ay'"
      ]
     },
     "execution_count": 129,
     "metadata": {},
     "output_type": "execute_result"
    }
   ],
   "source": [
    "sample(WORDS)"
   ]
  },
  {
   "cell_type": "code",
   "execution_count": 130,
   "id": "fb690b81",
   "metadata": {},
   "outputs": [
    {
     "name": "stdout",
     "output_type": "stream",
     "text": [
      "[('və', 31140), ('bir', 21109), ('bu', 16103), ('də', 14191), ('ki', 12363), ('ilə', 10145), ('da', 9110), ('üçün', 7021), ('isə', 6086), ('idi', 6014)]\n"
     ]
    }
   ],
   "source": [
    "#create dictionary \n",
    "COUNTS = Counter(WORDS)\n",
    "\n",
    "print(COUNTS.most_common(10))"
   ]
  },
  {
   "cell_type": "code",
   "execution_count": 131,
   "id": "d6e039b3",
   "metadata": {},
   "outputs": [
    {
     "data": {
      "image/png": "[encoded data removed]",
      "text/plain": [
       "<Figure size 432x288 with 1 Axes>"
      ]
     },
     "metadata": {
      "needs_background": "light"
     },
     "output_type": "display_data"
    }
   ],
   "source": [
    "M = COUNTS['və']\n",
    "yscale('log'); xscale('log'); title('Frequency of n-th most frequent word and 1/n line.')\n",
    "plot([c for (w, c) in COUNTS.most_common()])\n",
    "plot([M/i for i in range(1, len(COUNTS)+1)]);"
   ]
  },
  {
   "cell_type": "markdown",
   "id": "298946c4",
   "metadata": {},
   "source": [
    "# 3. Task: Spelling Correction\n",
    "\n",
    "        \n"
   ]
  },
  {
   "cell_type": "code",
   "execution_count": 135,
   "id": "247481b6",
   "metadata": {},
   "outputs": [],
   "source": [
    "def correct(word):\n",
    "    # Prefer edit distance 0, then 1, then 2; otherwise default to word itself.\n",
    "    candidates = (known(edits0(word)) or \n",
    "                  known(edits1(word)) or \n",
    "                  known(edits2(word)) or \n",
    "                  [word])\n",
    "    return max(candidates, key=COUNTS.get)"
   ]
  },
  {
   "cell_type": "code",
   "execution_count": 134,
   "id": "13c40a23",
   "metadata": {},
   "outputs": [],
   "source": [
    "def known(words):\n",
    "    return {w for w in words if w in COUNTS}\n",
    "\n",
    "def edits0(word): \n",
    "    return {word}\n",
    "\n",
    "def edits2(word):\n",
    "    return {e2 for e1 in edits1(word) for e2 in edits1(e1)}"
   ]
  },
  {
   "cell_type": "code",
   "execution_count": 133,
   "id": "4934b766",
   "metadata": {},
   "outputs": [],
   "source": [
    "def edits1(word):\n",
    "    pairs      = splits(word)\n",
    "    deletes    = [a+b[1:]           for (a, b) in pairs if b]\n",
    "    transposes = [a+b[1]+b[0]+b[2:] for (a, b) in pairs if len(b) > 1]\n",
    "    replaces   = [a+c+b[1:]         for (a, b) in pairs for c in alphabet if b]\n",
    "    inserts    = [a+c+b             for (a, b) in pairs for c in alphabet]\n",
    "    return set(deletes + transposes + replaces + inserts)\n",
    "\n",
    "def splits(word):\n",
    "    return [(word[:i], word[i:]) \n",
    "            for i in range(len(word)+1)]\n",
    "\n",
    "alphabet = 'ABCÇDEƏFGĞHXIİJKQLMNOÖPRSŞTUÜVYZabcçdeəfgğhxıijkqlmnoöprsştuüvyz'"
   ]
  },
  {
   "cell_type": "code",
   "execution_count": 136,
   "id": "b7fcc53e",
   "metadata": {},
   "outputs": [
    {
     "data": {
      "text/plain": [
       "[('', 'necesen'),\n",
       " ('n', 'ecesen'),\n",
       " ('ne', 'cesen'),\n",
       " ('nec', 'esen'),\n",
       " ('nece', 'sen'),\n",
       " ('neces', 'en'),\n",
       " ('necese', 'n'),\n",
       " ('necesen', '')]"
      ]
     },
     "execution_count": 136,
     "metadata": {},
     "output_type": "execute_result"
    }
   ],
   "source": [
    "splits('necesen')"
   ]
  },
  {
   "cell_type": "code",
   "execution_count": 64,
   "id": "22056ff5",
   "metadata": {},
   "outputs": [
    {
     "name": "stdout",
     "output_type": "stream",
     "text": [
      "{'neİcesen', 'necesenr', 'cecesen', 'necesIn', 'Gecesen', 'necZsen', 'neFcesen', 'nevcesen', 'necDsen', 'nemcesen', 'necOesen', 'neceFen', 'necesenƏ', 'nZcesen', 'necegsen', 'nIcesen', 'necGsen', 'necesçn', 'necelen', 'Unecesen', 'neceseh', 'Üecesen', 'nüecesen', 'necesQen', 'enecesen', 'necewen', 'nŞecesen', 'neceesn', 'necvsen', 'necbesen', 'npcesen', 'necesezn', 'necewsen', 'neceseYn', 'necTesen', 'necesenÖ', 'nAcesen', 'necesehn', 'lnecesen', 'neceOsen', 'neceseb', 'necesenI', 'nEecesen', 'nJecesen', 'necesZen', 'necjesen', 'nicesen', 'nxcesen', 'nVecesen', 'neycesen', 'necesenQ', 'necesenN', 'neceseL', 'necezsen', 'necYsen', 'neceŞen', 'npecesen', 'nccesen', 'necsen', 'nycesen', 'neGcesen', 'necesej', 'bnecesen', 'necesenv', 'neceusen', 'necFesen', 'nevesen', 'neceöen', 'neceseC', 'neResen', 'eecesen', 'nPcesen', 'neƏcesen', 'neceen', 'necYesen', 'neMesen', 'neceCsen', 'neceIen', 'negesen', 'neceDen', 'necZesen', 'necnesen', 'necesePn', 'neceAsen', 'neceTen', 'necesden', 'neQcesen', 'iecesen', 'necesEen', 'neceseç', 'necəsen', 'neceyen', 'necesxn', 'nÜcesen', 'tnecesen', 'necesegn', 'nucesen', 'neOcesen', 'neNcesen', 'necesUen', 'necesenl', 'necesenX', 'Tecesen', 'necezen', 'necesev', 'İnecesen', 'neceseIn', 'ğnecesen', 'necesğen', 'necesxen', 'neLcesen', 'neÇesen', 'znecesen', 'nHecesen', 'nQecesen', 'necCsen', 'neceskn', 'neDcesen', 'necesXen', 'necesenİ', 'necesenO', 'necesenp', 'Recesen', 'neceseen', 'neciesen', 'unecesen', 'nkecesen', 'nrcesen', 'nRecesen', 'neceİsen', 'nəcesen', 'necespn', 'nuecesen', 'nezesen', 'Şecesen', 'necepen', 'neceven', 'nnecesen', 'necesexn', 'neOesen', 'necejen', 'necesXn', 'neceNsen', 'necAsen', 'necisen', 'neceRen', 'neceksen', 'neceqsen', 'neceosen', 'necesenY', 'necUsen', 'nYcesen', 'nercesen', 'neceSsen', 'neceMen', 'neceseÖn', 'Mnecesen', 'Snecesen', 'necğsen', 'nrecesen', 'necestn', 'necesenə', 'necesenq', 'Şnecesen', 'necƏesen', 'nVcesen', 'neCesen', 'necIsen', 'neceseSn', 'neXcesen', 'neJesen', 'neceBen', 'nPecesen', 'necesAen', 'necesel', 'necefen', 'necösen', 'necesPn', 'neoesen', 'Yecesen', 'nwcesen', 'necesEn', 'necesCn', 'Qnecesen', 'Iecesen', 'hnecesen', 'şnecesen', 'necüesen', 'necesenT', 'necesenf', 'nfcesen', 'necesyn', 'neceUsen', 'necesein', 'vnecesen', 'necesOn', 'necEsen', 'necesCen', 'necesÜen', 'nXecesen', 'nebcesen', 'neceTsen', 'nyecesen', 'neceseZn', 'nxecesen', 'neceken', 'necesZn', 'necesMen', 'neıesen', 'neceisen', 'necRsen', 'necəesen', 'necEesen', 'necesenÜ', 'çnecesen', 'decesen', 'nhecesen', 'nejcesen', 'necAesen', 'necesejn', 'nOecesen', 'necesenx', 'neceseİ', 'neceysen', 'neceswen', 'niecesen', 'necHsen', 'nKecesen', 'şecesen', 'necsesen', 'nqecesen', 'necexsen', 'neesen', 'necesmen', 'nİecesen', 'nencesen', 'neöcesen', 'nƏecesen', 'necvesen', 'Ğecesen', 'neceqen', 'necesNn', 'necesena', 'önecesen', 'neceoen', 'necesşn', 'neXesen', 'neQesen', 'necesVn', 'neşesen', 'necesçen', 'necesfen', 'ncecesen', 'nçcesen', 'nYecesen', 'necedsen', 'necemen', 'neceseun', 'mnecesen', 'neĞcesen', 'wecesen', 'necesöen', 'necesBen', 'neceseJn', 'neeesen', 'necKsen', 'nÇcesen', 'neceıen', 'jnecesen', 'necesenn', 'neIesen', 'necÜsen', 'nzcesen', 'nAecesen', 'neĞesen', 'neceZen', 'Çecesen', 'necesŞn', 'qnecesen', 'necesenw', 'neceĞsen', 'neÇcesen', 'neceHen', 'neceHsen', 'necesOen', 'necesebn', 'neceseÜn', 'neceseH', 'neəcesen', 'necVesen', 'neceAen', 'necesnn', 'necesƏn', 'neceseN', 'anecesen', 'necesea', 'neceŞsen', 'neceDsen', 'neceseön', 'nMecesen', 'neecesen', 'necesoen', 'nehesen', 'Becesen', 'necesDn', 'neceseƏ', 'neçcesen', 'necersen', 'necesĞen', 'necKesen', 'neczsen', 'necMesen', 'nececen', 'neceseğ', 'necesei', 'neFesen', 'necesLen', 'neccsen', 'neÜcesen', 'nEcesen', 'neUesen', 'necesern', 'neceUen', 'jecesen', 'necqsen', 'ndecesen', 'neMcesen', 'neZesen', 'neceseMn', 'neceösen', 'necesRen', 'necesenö', 'necesSen', 'nebesen', 'necfsen', 'necBesen', 'necehsen', 'necesey', 'nfecesen', 'necesyen', 'ndcesen', 'necesen', 'neceeen', 'necehen', 'necesFn', 'necebsen', 'neacesen', 'newesen', 'nececsen', 'necesren', 'tecesen', 'neceEen', 'nepcesen', 'neceİen', 'necesben', 'neceIsen', 'neceseŞ', 'zecesen', 'dnecesen', 'neceseO', 'ynecesen', 'Onecesen', 'nefcesen', 'nezcesen', 'snecesen', 'necasen', 'nÖecesen', 'neceseÇ', 'neceseÇn', 'neceseOn', 'neceesen', 'necpsen', 'necresen', 'neceEsen', 'neceseln', 'nCcesen', 'neceQsen', 'neKesen', 'neceset', 'Mecesen', 'neceseŞn', 'nçecesen', 'Decesen', 'nBcesen', 'neceGsen', 'neceseD', 'neucesen', 'neceSen', 'necesJen', 'nXcesen', 'nekesen', 'nFecesen', 'nectesen', 'necgsen', 'ngecesen', 'necesun', 'neceasen', 'necetsen', 'necesenL', 'neğcesen', 'knecesen', 'neceben', 'nJcesen', 'nocesen', 'neceten', 'necesqen', 'necesenz', 'necesşen', 'üecesen', 'Aecesen', 'nmecesen', 'neYcesen', 'neceses', 'nöcesen', 'nTecesen', 'neceısen', 'neceÇen', 'necoesen', 'neSesen', 'necesdn', 'neceseQn', 'neEesen', 'neceseİn', 'necMsen', 'necaesen', 'necUesen', 'neScesen', 'necesepn', 'neceseJ', 'necesKn', 'wnecesen', 'neceƏsen', 'necesAn', 'necesenı', 'necesYen', 'nşecesen', 'necnsen', 'neDesen', 'necBsen', 'nUcesen', 'necJsen', 'neGesen', 'necOsen', 'neceden', 'nGecesen', 'necepsen', 'neceseNn', 'ənecesen', 'necesex', 'neceĞen', 'neNesen', 'necwsen', 'necesenu', 'necesRn', 'neceseK', 'nsecesen', 'neEcesen', 'neceVen', 'neceseö', 'necNsen', 'nlecesen', 'neceszen', 'neŞesen', 'necesən', 'necesenB', 'nşcesen', 'necesenA', 'İecesen', 'ncesen', 'neceseE', 'neÖesen', 'neceüsen', 'necesTn', 'necPsen', 'necöesen', 'necesne', 'nQcesen', 'Jecesen', 'nUecesen', 'necÇesen', 'neceXen', 'neYesen', 'neaesen', 'Ynecesen', 'ınecesen', 'neceseCn', 'necesfn', 'Vecesen', 'pnecesen', 'encesen', 'neceLen', 'necesDen', 'necesuen', 'Knecesen', 'nNecesen', 'neceÇsen', 'necesetn', 'necesenü', 'necesenk', 'nğcesen', 'aecesen', 'neüesen', 'neceKen', 'nehcesen', 'necespen', 'nBecesen', 'neceseR', 'neceğen', 'necSsen', 'necısen', 'necDesen', 'necesefn', 'Pecesen', 'nechsen', 'necİsen', 'necüsen', 'nechesen', 'neclesen', 'necyesen', 'neİesen', 'necesĞn', 'nePcesen', 'neceCen', 'necXsen', 'neıcesen', 'necQsen', 'ıecesen', 'necİesen', 'secesen', 'neceseğn', 'neVesen', 'pecesen', 'neceğsen', 'neBesen', 'necesİen', 'necesene', 'neceYen', 'necmsen', 'neceJen', 'neceseHn', 'necfesen', 'Cecesen', 'necgesen', 'nScesen', 'neceçen', 'njecesen', 'Əecesen', 'neceseLn', 'necbsen', 'neceseı', 'necesenR', 'neceseRn', 'neceseY', 'nĞecesen', 'Ğnecesen', 'necÇsen', 'Önecesen', 'yecesen', 'necesenF', 'necŞesen', 'lecesen', 'neÖcesen', 'neHcesen', 'nSecesen', 'necesUn', 'neVcesen', 'neceshn', 'necesJn', 'necesln', 'necesgen', 'neqesen', 'necksen', 'neceseü', 'nDecesen', 'necssen', 'necesIen', 'nwecesen', 'neceseon', 'nLecesen', 'necesenc', 'neceson', 'necesrn', 'necesenS', 'necesean', 'necesəen', 'necesenĞ', 'Gnecesen', 'necesıen', 'neceien', 'necResen', 'neÜesen', 'neceseng', 'necLsen', 'necesesn', 'Hecesen', 'neceseGn', 'neTcesen', 'nÖcesen', 'necesenJ', 'nDcesen', 'neceslen', 'nemesen', 'Pnecesen', 'nÇecesen', 'nscesen', 'ecesen', 'necesGn', 'neceseÖ', 'noecesen', 'nePesen', 'nMcesen', 'naecesen', 'necNesen', 'neceseĞn', 'njcesen', 'necıesen', 'necçsen', 'öecesen', 'necesÇn', 'nejesen', 'necejsen', 'necesmn', 'fecesen', 'neUcesen', 'necesvn', 'xecesen', 'neğesen', 'neiesen', 'neceseu', 'necesİn', 'neAcesen', 'necesek', 'nacesen', 'necesYn', 'neceseP', 'neceseZ', 'gnecesen', 'Kecesen', 'neceseĞ', 'necesBn', 'neceşsen', 'necesenV', 'nOcesen', 'necesgn', 'nkcesen', 'neceseX', 'neJcesen', 'nzecesen', 'necesenğ', 'Jnecesen', 'nRcesen', 'necesee', 'nGcesen', 'nlcesen', 'neRcesen', 'necesenş', 'neocesen', 'netesen', 'fnecesen', 'necesenP', 'necesenD', 'neceseT', 'necesew', 'neccesen', 'Dnecesen', 'necƏsen', 'necşsen', 'necesNen', 'neceseən', 'necesÖn', 'nelesen', 'kecesen', 'rnecesen', 'necesend', 'necesTen', 'necxesen', 'Oecesen', 'necesün', 'necÖsen', 'neczesen', 'necesSn', 'necesef', 'neŞcesen', 'neceuen', 'neöesen', 'nesesen', 'neceswn', 'neceÜsen', 'necesten', 'neceseI', 'nedcesen', 'necosen', 'neceseDn', 'negcesen', 'nescesen', 'necesan', 'necseen', 'nedesen', 'necĞsen', 'necesın', 'vecesen', 'necesecn', 'neceseVn', 'Ənecesen', 'neceseUn', 'nhcesen', 'neceseS', 'nIecesen', 'necLesen', 'necÖesen', 'necesenU', 'neceÖen', 'necesed', 'necesüen', 'nTcesen', 'necpesen', 'neceseg', 'necxsen', 'necesqn', 'xnecesen', 'necese', 'necesenŞ', 'neAesen', 'necXesen', 'necesnen', 'nmcesen', 'necdesen', 'mecesen', 'neceseFn', 'Zecesen', 'neçesen', 'neəesen', 'necqesen', 'neceseF', 'necCesen', 'neceseın', 'neceseün', 'neceseEn', 'neceMsen', 'necJesen', 'neceVsen', 'necusen', 'neyesen', 'neceseqn', 'neceseny', 'necesenç', 'nbcesen', 'necescn', 'Enecesen', 'necegen', 'necesekn', 'Uecesen', 'nenesen', 'necjsen', 'nücesen', 'neceren', 'necIesen', 'neceseTn', 'neceseAn', 'nNcesen', 'Lecesen', 'necescen', 'necrsen', 'necGesen', 'necesenb', 'neceəsen', 'necŞsen', 'neecsen', 'Hnecesen', 'neceKsen', 'neceseo', 'Xecesen', 'neceBsen', 'necesjen', 'nexcesen', 'necesğn', 'neceseBn', 'neceOen', 'Ünecesen', 'neceQen', 'necesKen', 'neceseXn', 'nƏcesen', 'necesLn', 'Rnecesen', 'necevsen', 'necesec', 'necesenm', 'neceəen', 'Tnecesen', 'necesQn', 'uecesen', 'necensen', 'neqcesen', 'çecesen', 'necesenj', 'neIcesen', 'neceszn', 'neceLsen', 'recesen', 'neceseA', 'nəecesen', 'nncesen', 'necVsen', 'Nnecesen', 'nHcesen', 'nKcesen', 'ngcesen', 'nıcesen', 'necesbn', 'necesien', 'nvecesen', 'necesjn', 'nŞcesen', 'necFsen', 'necçesen', 'Öecesen', 'nefesen', 'necesn', 'necesÖen', 'neceJsen', 'necesemn', 'Lnecesen', 'Necesen', 'neceseB', 'necesedn', 'neceser', 'necQesen', 'neicesen', 'necwesen', 'nceesen', 'necefsen', 'neCcesen', 'neceseçn', 'necesPen', 'Fecesen', 'necePsen', 'nexesen', 'necmesen', 'necesem', 'necesÜn', 'neceseKn', 'necTsen', 'nÜecesen', 'Bnecesen', 'nZecesen', 'nöecesen', 'nıecesen', 'necesGen', 'cnecesen', 'nğecesen', 'necessen', 'onecesen', 'necPesen', 'Çnecesen', 'nepesen', 'necesenG', 'neceGen', 'Eecesen', 'necessn', 'neceşen', 'neceseQ', 'necesenZ', 'necesVen', 'necesenh', 'necePen', 'necĞesen', 'neresen', 'neuesen', 'necesin', 'neckesen', 'ünecesen', 'neceshen', 'neLesen', 'neücesen', 'necesevn', 'necesken', 'ntcesen', 'nbecesen', 'necesŞen', 'Xnecesen', 'necesven', 'neceÜen', 'necesFen', 'nĞcesen', 'netcesen', 'neceçsen', 'necesHen', 'neceseÜ', 'necenen', 'nectsen', 'neceseV', 'oecesen', 'necSesen', 'neceseş', 'neceRsen', 'neceYsen', 'gecesen', 'neceZsen', 'necesön', 'nCecesen', 'necesens', 'neceseşn', 'neceseni', 'neceƏen', 'necexen', 'neceÖsen', 'Vnecesen', 'necesent', 'becesen', 'ntecesen', 'qecesen', 'necuesen', 'necelsen', 'Cnecesen', 'neKcesen', 'neBcesen', 'necesewn', 'neclsen', 'necesep', 'necesHn', 'necÜesen', 'necesenÇ', 'nFcesen', 'necesenC', 'nekcesen', 'nLcesen', 'neHesen', 'neceseə', 'Inecesen', 'inecesen', 'neceaen', 'Qecesen', 'neceseG', 'hecesen', 'Secesen', 'necHesen', 'Znecesen', 'necesez', 'neceFsen', 'Anecesen', 'neceseM', 'neZcesen', 'nİcesen', 'necemsen', 'neceüen', 'necşesen', 'neceseno', 'neƏesen', 'əecesen', 'neceseq', 'necesÇen', 'neceseyn', 'nelcesen', 'neceseƏn', 'necesenM', 'neTesen', 'necysen', 'newcesen', 'nvcesen', 'neşcesen', 'necesenE', 'neceNen', 'necğesen', 'necesMn', 'necesenK', 'necesenH', 'necesƏen', 'neceXsen', 'neceseU', 'Fnecesen', 'ğecesen', 'necesaen', 'nqcesen', 'necdsen'}\n"
     ]
    }
   ],
   "source": [
    "print(edits1('necesen'))"
   ]
  },
  {
   "cell_type": "code",
   "execution_count": 65,
   "id": "1a81fab0",
   "metadata": {},
   "outputs": [
    {
     "name": "stdout",
     "output_type": "stream",
     "text": [
      "444194\n"
     ]
    }
   ],
   "source": [
    "print(len(edits2('sagolun')))"
   ]
  },
  {
   "cell_type": "code",
   "execution_count": 67,
   "id": "16af699a",
   "metadata": {},
   "outputs": [
    {
     "data": {
      "text/plain": [
       "<map at 0x21d00bae088>"
      ]
     },
     "execution_count": 67,
     "metadata": {},
     "output_type": "execute_result"
    }
   ],
   "source": [
    "\n",
    "def case_of(text):\n",
    "    return (str.upper if text.isupper() else\n",
    "            str.lower if text.islower() else\n",
    "            str.title if text.istitle() else\n",
    "            str)\n",
    "map(case_of, ['UPPER', 'lower', 'Title', 'CamelCase'])"
   ]
  },
  {
   "cell_type": "code",
   "execution_count": 137,
   "id": "87cd5606",
   "metadata": {},
   "outputs": [],
   "source": [
    "def correct_text(text):\n",
    "    return re.sub('[ABCÇDEƏFGĞHXIİJKQLMNOÖPRSŞTUÜVYZabcçdeəfgğhxıijkqlmnoöprsştuüvyz]+', correct_match, text)\n",
    "\n",
    "def correct_match(match):\n",
    "    word = match.group()\n",
    "\n",
    "    result = case_of(word)(correct(word.lower()))\n",
    "    return case_of(word)(correct(word.lower()))\n"
   ]
  },
  {
   "cell_type": "code",
   "execution_count": 69,
   "id": "4a614333",
   "metadata": {},
   "outputs": [
    {
     "data": {
      "text/plain": [
       "'salam həkim mənim sağ böyrək ağrıyır'"
      ]
     },
     "execution_count": 69,
     "metadata": {},
     "output_type": "execute_result"
    }
   ],
   "source": [
    "correct_text('salam hekim menim sag boyrek ağryyir')"
   ]
  },
  {
   "cell_type": "code",
   "execution_count": 72,
   "metadata": {},
   "outputs": [
    {
     "data": {
      "text/plain": [
       "'necəsən qardaş'"
      ]
     },
     "execution_count": 72,
     "metadata": {},
     "output_type": "execute_result"
    }
   ],
   "source": [
    "correct_text('necesen qardaw')"
   ]
  },
  {
   "cell_type": "code",
   "execution_count": 108,
   "metadata": {},
   "outputs": [
    {
     "data": {
      "text/plain": [
       "'metro haçan boş olur? son zamanlar biraz vaxt az olur '"
      ]
     },
     "execution_count": 108,
     "metadata": {},
     "output_type": "execute_result"
    }
   ],
   "source": [
    "correct_text('merto hacan bow olur? son zamanlr birax vxt axz olur ')"
   ]
  },
  {
   "cell_type": "markdown",
   "metadata": {},
   "source": [
    "# 4. Building bigrams"
   ]
  },
  {
   "cell_type": "code",
   "execution_count": 296,
   "metadata": {},
   "outputs": [],
   "source": [
    "with open(\"allbook.txt\", \"r\", encoding='utf-8') as book:\n",
    "    lines = book.readlines()"
   ]
  },
  {
   "cell_type": "code",
   "execution_count": 297,
   "metadata": {},
   "outputs": [],
   "source": [
    "def clean_list(element):\n",
    "    regex = re.compile('[^ABCÇDEƏFGĞHXIİJKQLMNOÖPRSŞTUÜVYZabcçdeəfgğhxıijkqlmnoöprsştuüvyz+]')\n",
    "    temp = regex.sub(' ', element.lower())\n",
    "    return \" \".join(temp.split())"
   ]
  },
  {
   "cell_type": "code",
   "execution_count": 298,
   "metadata": {},
   "outputs": [],
   "source": [
    "def delete_element(element):\n",
    "    return ' '.join([i for i in element.split() if len(i)>1])"
   ]
  },
  {
   "cell_type": "code",
   "execution_count": 299,
   "metadata": {},
   "outputs": [],
   "source": [
    "output_list = list(map(clean_list, lines))\n",
    "output_list = list(map(delete_element, output_list))\n",
    "output_list = [i for i in output_list if len(i)>1]"
   ]
  },
  {
   "cell_type": "code",
   "execution_count": 300,
   "metadata": {},
   "outputs": [
    {
     "data": {
      "text/plain": [
       "array(['mehmanxana onların hər birində orta hesabla yer var',\n",
       "       'kondensasiyası ilə əlaqədar olaraq nüvə membranının onlarla əlaqəsi',\n",
       "       'var imiş da nə bilim gündə orda burda qızlarla kefə',\n",
       "       'istəsə də bacarmırdı sanki bütün xəyal arzu və istəkləri bir andaca',\n",
       "       'azərbaycanlını cəzalandıracağını söylədi ancaq xəfiyyə',\n",
       "       'mədəniyyət abidələrinin qorunub mühafizə olunmasını daha',\n",
       "       'adqeziya', 'cinsiyyəti idarə edən xüsusi genlər də mövcuddur',\n",
       "       'və yenidən düşünməyi tələb etmişdi amma heç bir faydası yox idi',\n",
       "       'hər nə qədər ümidsizliyə qapılmamaq üçün özümü'], dtype='<U451')"
      ]
     },
     "execution_count": 300,
     "metadata": {},
     "output_type": "execute_result"
    }
   ],
   "source": [
    "random.choice(output_list,10)\n"
   ]
  },
  {
   "cell_type": "code",
   "execution_count": 301,
   "metadata": {},
   "outputs": [],
   "source": [
    "bigrams = [b for l in output_list for b in zip(l.split(\" \")[:-1], l.split(\" \")[1:])]"
   ]
  },
  {
   "cell_type": "code",
   "execution_count": 302,
   "metadata": {},
   "outputs": [
    {
     "data": {
      "text/plain": [
       "[('rus', 'və'),\n",
       " ('digər', 'dillərdən'),\n",
       " ('dillərdən', 'rus'),\n",
       " ('rus', 'dilinə'),\n",
       " ('dilinə', 'tərcümə'),\n",
       " ('tərcümə', 'olunmuş'),\n",
       " ('olunmuş', 'ədəbiyyatlardan'),\n",
       " ('ədəbiyyatlardan', 'istifadə'),\n",
       " ('istifadə', 'olunub'),\n",
       " ('olunub', 'ngilis'),\n",
       " ('ngilis', 'dilində'),\n",
       " ('dilində', 'çap'),\n",
       " ('çap', 'olunmuş'),\n",
       " ('olunmuş', 'ən'),\n",
       " ('ən', 'son')]"
      ]
     },
     "execution_count": 302,
     "metadata": {},
     "output_type": "execute_result"
    }
   ],
   "source": [
    "bigrams[150:165]"
   ]
  },
  {
   "cell_type": "code",
   "execution_count": 303,
   "metadata": {},
   "outputs": [],
   "source": [
    "f = open('bigram_all_books.txt', 'w',encoding='utf-8')\n",
    "\n",
    "for t in bigrams:\n",
    "  f.write(' '.join(str(s) for s in t) + '\\n')"
   ]
  }
 ],
 "metadata": {
  "kernelspec": {
   "display_name": "Python 3",
   "language": "python",
   "name": "python3"
  },
  "language_info": {
   "codemirror_mode": {
    "name": "ipython",
    "version": 3
   },
   "file_extension": ".py",
   "mimetype": "text/x-python",
   "name": "python",
   "nbconvert_exporter": "python",
   "pygments_lexer": "ipython3",
   "version": "3.7.10"
  }
 },
 "nbformat": 4,
 "nbformat_minor": 1
}
